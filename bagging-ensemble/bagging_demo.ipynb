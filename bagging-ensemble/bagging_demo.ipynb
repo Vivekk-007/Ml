{
  "metadata": {
    "kernelspec": {
      "language": "python",
      "display_name": "Python 3",
      "name": "python3"
    },
    "language_info": {
      "name": "python",
      "version": "3.11.13",
      "mimetype": "text/x-python",
      "codemirror_mode": {
        "name": "ipython",
        "version": 3
      },
      "pygments_lexer": "ipython3",
      "nbconvert_exporter": "python",
      "file_extension": ".py"
    },
    "kaggle": {
      "accelerator": "none",
      "dataSources": [],
      "dockerImageVersionId": 31089,
      "isInternetEnabled": true,
      "language": "python",
      "sourceType": "notebook",
      "isGpuEnabled": false
    },
    "colab": {
      "name": "bagging-demo",
      "provenance": []
    }
  },
  "nbformat_minor": 0,
  "nbformat": 4,
  "cells": [
    {
      "cell_type": "markdown",
      "source": [
        "<a href=\"https://www.kaggle.com/code/vivekkk007/bagging-demo?scriptVersionId=262481178\" target=\"_blank\"><img align=\"left\" alt=\"Kaggle\" title=\"Open in Kaggle\" src=\"https://kaggle.com/static/images/open-in-kaggle.svg\"></a>"
      ],
      "metadata": {
        "id": "2C78E6g17JjC"
      }
    },
    {
      "cell_type": "code",
      "source": [
        "# This Python 3 environment comes with many helpful analytics libraries installed\n",
        "# It is defined by the kaggle/python Docker image: https://github.com/kaggle/docker-python\n",
        "# For example, here's several helpful packages to load\n",
        "\n",
        "import numpy as np # linear algebra\n",
        "import pandas as pd # data processing, CSV file I/O (e.g. pd.read_csv)\n",
        "\n",
        "# Input data files are available in the read-only \"../input/\" directory\n",
        "# For example, running this (by clicking run or pressing Shift+Enter) will list all files under the input directory\n",
        "\n",
        "import os\n",
        "for dirname, _, filenames in os.walk('/kaggle/input'):\n",
        "    for filename in filenames:\n",
        "        print(os.path.join(dirname, filename))\n",
        "\n",
        "# You can write up to 20GB to the current directory (/kaggle/working/) that gets preserved as output when you create a version using \"Save & Run All\"\n",
        "# You can also write temporary files to /kaggle/temp/, but they won't be saved outside of the current session"
      ],
      "metadata": {
        "_uuid": "8f2839f25d086af736a60e9eeb907d3b93b6e0e5",
        "_cell_guid": "b1076dfc-b9ad-4769-8c92-a6c4dae69d19",
        "trusted": true,
        "execution": {
          "iopub.status.busy": "2025-09-17T22:40:23.366802Z",
          "iopub.execute_input": "2025-09-17T22:40:23.367157Z",
          "iopub.status.idle": "2025-09-17T22:40:23.373892Z",
          "shell.execute_reply.started": "2025-09-17T22:40:23.367092Z",
          "shell.execute_reply": "2025-09-17T22:40:23.372679Z"
        },
        "id": "FS6Rx6xx7JjG"
      },
      "outputs": [],
      "execution_count": null
    },
    {
      "cell_type": "code",
      "source": [
        "from sklearn.datasets import make_classification\n",
        "from sklearn.metrics import accuracy_score\n",
        "from sklearn.ensemble import BaggingClassifier\n",
        "from sklearn.tree import DecisionTreeClassifier\n",
        "from sklearn.svm import SVC\n",
        "from sklearn.model_selection import train_test_split"
      ],
      "metadata": {
        "trusted": true,
        "execution": {
          "iopub.status.busy": "2025-09-17T22:40:23.394517Z",
          "iopub.execute_input": "2025-09-17T22:40:23.395675Z",
          "iopub.status.idle": "2025-09-17T22:40:23.401028Z",
          "shell.execute_reply.started": "2025-09-17T22:40:23.395609Z",
          "shell.execute_reply": "2025-09-17T22:40:23.399951Z"
        },
        "id": "zO1LyATz7JjI"
      },
      "outputs": [],
      "execution_count": null
    },
    {
      "cell_type": "code",
      "source": [
        "X,y = make_classification(n_samples=10000, n_features=10,n_informative=3)"
      ],
      "metadata": {
        "trusted": true,
        "execution": {
          "iopub.status.busy": "2025-09-17T22:40:23.403082Z",
          "iopub.execute_input": "2025-09-17T22:40:23.403473Z",
          "iopub.status.idle": "2025-09-17T22:40:23.433051Z",
          "shell.execute_reply.started": "2025-09-17T22:40:23.403442Z",
          "shell.execute_reply": "2025-09-17T22:40:23.431834Z"
        },
        "id": "GQ5lxqmJ7JjJ"
      },
      "outputs": [],
      "execution_count": null
    },
    {
      "cell_type": "code",
      "source": [
        "X_train,X_test,y_train,y_test = train_test_split(X,y,test_size=0.2,random_state=42)"
      ],
      "metadata": {
        "trusted": true,
        "execution": {
          "iopub.status.busy": "2025-09-17T22:40:23.434247Z",
          "iopub.execute_input": "2025-09-17T22:40:23.434526Z",
          "iopub.status.idle": "2025-09-17T22:40:23.444135Z",
          "shell.execute_reply.started": "2025-09-17T22:40:23.434505Z",
          "shell.execute_reply": "2025-09-17T22:40:23.442755Z"
        },
        "id": "04Vb54Dl7JjJ"
      },
      "outputs": [],
      "execution_count": null
    },
    {
      "cell_type": "markdown",
      "source": [
        "# Dicision tree"
      ],
      "metadata": {
        "id": "Al3ZBUxp7JjK"
      }
    },
    {
      "cell_type": "code",
      "source": [
        "dt = DecisionTreeClassifier(random_state=42)\n",
        "dt.fit(X_train,y_train)\n",
        "y_pred = dt.predict(X_test)\n",
        "\n",
        "print(\"Decision Tree accuracy\",accuracy_score(y_test,y_pred))"
      ],
      "metadata": {
        "trusted": true,
        "execution": {
          "iopub.status.busy": "2025-09-17T22:40:23.445223Z",
          "iopub.execute_input": "2025-09-17T22:40:23.445512Z",
          "iopub.status.idle": "2025-09-17T22:40:23.611862Z",
          "shell.execute_reply.started": "2025-09-17T22:40:23.44549Z",
          "shell.execute_reply": "2025-09-17T22:40:23.610873Z"
        },
        "id": "of9dO3wN7JjK"
      },
      "outputs": [],
      "execution_count": null
    },
    {
      "cell_type": "markdown",
      "source": [
        "# Bagging"
      ],
      "metadata": {
        "id": "GvPuXPyS7JjL"
      }
    },
    {
      "cell_type": "code",
      "source": [
        "bag = BaggingClassifier(\n",
        "    base_estimator=DecisionTreeClassifier(),\n",
        "    n_estimators=500,\n",
        "    max_samples=0.5,\n",
        "    bootstrap=True,\n",
        "    random_state=42\n",
        ")\n",
        ""
      ],
      "metadata": {
        "trusted": true,
        "execution": {
          "iopub.status.busy": "2025-09-17T22:40:23.615103Z",
          "iopub.execute_input": "2025-09-17T22:40:23.615414Z",
          "iopub.status.idle": "2025-09-17T22:40:23.621142Z",
          "shell.execute_reply.started": "2025-09-17T22:40:23.615391Z",
          "shell.execute_reply": "2025-09-17T22:40:23.619946Z"
        },
        "id": "B0RhirlA7JjL"
      },
      "outputs": [],
      "execution_count": null
    },
    {
      "cell_type": "code",
      "source": [
        "bag.fit(X_train,y_train)"
      ],
      "metadata": {
        "trusted": true,
        "execution": {
          "iopub.status.busy": "2025-09-17T22:40:23.622586Z",
          "iopub.execute_input": "2025-09-17T22:40:23.623096Z",
          "iopub.status.idle": "2025-09-17T22:40:47.489619Z",
          "shell.execute_reply.started": "2025-09-17T22:40:23.623063Z",
          "shell.execute_reply": "2025-09-17T22:40:47.488611Z"
        },
        "id": "art-ycWb7JjM"
      },
      "outputs": [],
      "execution_count": null
    },
    {
      "cell_type": "code",
      "source": [
        "y_pred = bag.predict(X_test)"
      ],
      "metadata": {
        "trusted": true,
        "execution": {
          "iopub.status.busy": "2025-09-17T22:40:47.490506Z",
          "iopub.execute_input": "2025-09-17T22:40:47.4908Z",
          "iopub.status.idle": "2025-09-17T22:40:47.697956Z",
          "shell.execute_reply.started": "2025-09-17T22:40:47.490776Z",
          "shell.execute_reply": "2025-09-17T22:40:47.696954Z"
        },
        "id": "K_OchtiA7JjM"
      },
      "outputs": [],
      "execution_count": null
    },
    {
      "cell_type": "code",
      "source": [
        "accuracy_score(y_test,y_pred)"
      ],
      "metadata": {
        "trusted": true,
        "execution": {
          "iopub.status.busy": "2025-09-17T22:40:47.699443Z",
          "iopub.execute_input": "2025-09-17T22:40:47.699818Z",
          "iopub.status.idle": "2025-09-17T22:40:47.708066Z",
          "shell.execute_reply.started": "2025-09-17T22:40:47.699789Z",
          "shell.execute_reply": "2025-09-17T22:40:47.706978Z"
        },
        "id": "P2kKOBkF7JjM"
      },
      "outputs": [],
      "execution_count": null
    },
    {
      "cell_type": "code",
      "source": [
        "bag.estimators_samples_[0].shape"
      ],
      "metadata": {
        "trusted": true,
        "execution": {
          "iopub.status.busy": "2025-09-17T22:40:47.708738Z",
          "iopub.execute_input": "2025-09-17T22:40:47.70905Z",
          "iopub.status.idle": "2025-09-17T22:40:47.875769Z",
          "shell.execute_reply.started": "2025-09-17T22:40:47.709029Z",
          "shell.execute_reply": "2025-09-17T22:40:47.87462Z"
        },
        "id": "hVfnG8Oo7JjN"
      },
      "outputs": [],
      "execution_count": null
    },
    {
      "cell_type": "code",
      "source": [
        "bag.estimators_features_[0].shape"
      ],
      "metadata": {
        "trusted": true,
        "execution": {
          "iopub.status.busy": "2025-09-17T22:40:47.87689Z",
          "iopub.execute_input": "2025-09-17T22:40:47.877265Z",
          "iopub.status.idle": "2025-09-17T22:40:47.88448Z",
          "shell.execute_reply.started": "2025-09-17T22:40:47.877234Z",
          "shell.execute_reply": "2025-09-17T22:40:47.883297Z"
        },
        "id": "kpLfSNjT7JjN"
      },
      "outputs": [],
      "execution_count": null
    },
    {
      "cell_type": "markdown",
      "source": [
        "# Bagging using svm\n"
      ],
      "metadata": {
        "id": "cfrIZjiM7JjO"
      }
    },
    {
      "cell_type": "code",
      "source": [
        "bag = BaggingClassifier(\n",
        "    base_estimator=SVC(),\n",
        "    n_estimators=500,\n",
        "    max_samples=0.25,\n",
        "    bootstrap=True,\n",
        "    random_state=42\n",
        ")"
      ],
      "metadata": {
        "trusted": true,
        "execution": {
          "iopub.status.busy": "2025-09-17T22:40:47.885586Z",
          "iopub.execute_input": "2025-09-17T22:40:47.886068Z",
          "iopub.status.idle": "2025-09-17T22:40:47.907347Z",
          "shell.execute_reply.started": "2025-09-17T22:40:47.88604Z",
          "shell.execute_reply": "2025-09-17T22:40:47.906313Z"
        },
        "id": "9JLppOHq7JjO"
      },
      "outputs": [],
      "execution_count": null
    },
    {
      "cell_type": "code",
      "source": [
        "bag.fit(X_train,y_train)\n",
        "y_pred = bag.predict(X_test)\n",
        "print(\"Bagging using SVM\",accuracy_score(y_test,y_pred))"
      ],
      "metadata": {
        "trusted": true,
        "execution": {
          "iopub.status.busy": "2025-09-17T22:40:47.908619Z",
          "iopub.execute_input": "2025-09-17T22:40:47.909193Z",
          "iopub.status.idle": "2025-09-17T22:41:27.602182Z",
          "shell.execute_reply.started": "2025-09-17T22:40:47.909161Z",
          "shell.execute_reply": "2025-09-17T22:41:27.601171Z"
        },
        "id": "2iqYKLBB7JjP"
      },
      "outputs": [],
      "execution_count": null
    },
    {
      "cell_type": "markdown",
      "source": [
        "# Pasting"
      ],
      "metadata": {
        "id": "8eSI2HSw7JjP"
      }
    },
    {
      "cell_type": "code",
      "source": [
        "bag = BaggingClassifier(\n",
        "    base_estimator=DecisionTreeClassifier(),\n",
        "    n_estimators=500,\n",
        "    max_samples=0.25,\n",
        "    bootstrap=False,\n",
        "    random_state=42,\n",
        "    verbose = 1,\n",
        "    n_jobs=-1\n",
        ")"
      ],
      "metadata": {
        "trusted": true,
        "execution": {
          "iopub.status.busy": "2025-09-17T22:41:27.603182Z",
          "iopub.execute_input": "2025-09-17T22:41:27.603422Z",
          "iopub.status.idle": "2025-09-17T22:41:27.611375Z",
          "shell.execute_reply.started": "2025-09-17T22:41:27.603403Z",
          "shell.execute_reply": "2025-09-17T22:41:27.61024Z"
        },
        "id": "PyTKkTLe7JjQ"
      },
      "outputs": [],
      "execution_count": null
    },
    {
      "cell_type": "code",
      "source": [
        "bag.fit(X_train,y_train)\n",
        "y_pred = bag.predict(X_test)\n",
        "print(\"Pasting classifier\",accuracy_score(y_test,y_pred))\n",
        ""
      ],
      "metadata": {
        "trusted": true,
        "execution": {
          "iopub.status.busy": "2025-09-17T22:41:27.615139Z",
          "iopub.execute_input": "2025-09-17T22:41:27.615811Z",
          "iopub.status.idle": "2025-09-17T22:41:34.137703Z",
          "shell.execute_reply.started": "2025-09-17T22:41:27.615785Z",
          "shell.execute_reply": "2025-09-17T22:41:34.13661Z"
        },
        "id": "4MNdkq9u7JjQ"
      },
      "outputs": [],
      "execution_count": null
    },
    {
      "cell_type": "markdown",
      "source": [
        "# Random subspace"
      ],
      "metadata": {
        "id": "BMnvHnb67JjR"
      }
    },
    {
      "cell_type": "code",
      "source": [
        "bag = BaggingClassifier(\n",
        "    base_estimator=DecisionTreeClassifier(),\n",
        "    n_estimators=500,\n",
        "    max_samples=1.0,\n",
        "    bootstrap=False,\n",
        "    max_features=0.5,\n",
        "    bootstrap_features=True,\n",
        "    random_state=42\n",
        ")"
      ],
      "metadata": {
        "trusted": true,
        "execution": {
          "iopub.status.busy": "2025-09-17T22:41:34.138599Z",
          "iopub.execute_input": "2025-09-17T22:41:34.13914Z",
          "iopub.status.idle": "2025-09-17T22:41:34.145827Z",
          "shell.execute_reply.started": "2025-09-17T22:41:34.1391Z",
          "shell.execute_reply": "2025-09-17T22:41:34.144267Z"
        },
        "id": "Xi20kYBt7JjR"
      },
      "outputs": [],
      "execution_count": null
    },
    {
      "cell_type": "code",
      "source": [
        "bag.fit(X_train,y_train)\n",
        "y_pred = bag.predict(X_test)\n",
        "print(\"Random Subspaces classifier\",accuracy_score(y_test,y_pred))"
      ],
      "metadata": {
        "trusted": true,
        "execution": {
          "iopub.status.busy": "2025-09-17T22:41:34.146957Z",
          "iopub.execute_input": "2025-09-17T22:41:34.147257Z",
          "iopub.status.idle": "2025-09-17T22:42:18.313608Z",
          "shell.execute_reply.started": "2025-09-17T22:41:34.14723Z",
          "shell.execute_reply": "2025-09-17T22:42:18.312585Z"
        },
        "id": "sYaIhc0Q7JjS"
      },
      "outputs": [],
      "execution_count": null
    },
    {
      "cell_type": "code",
      "source": [
        "bag.estimators_samples_[0].shape"
      ],
      "metadata": {
        "trusted": true,
        "execution": {
          "iopub.status.busy": "2025-09-17T22:42:18.314598Z",
          "iopub.execute_input": "2025-09-17T22:42:18.315004Z",
          "iopub.status.idle": "2025-09-17T22:42:18.49005Z",
          "shell.execute_reply.started": "2025-09-17T22:42:18.31498Z",
          "shell.execute_reply": "2025-09-17T22:42:18.488564Z"
        },
        "id": "XM-B04eP7JjS"
      },
      "outputs": [],
      "execution_count": null
    },
    {
      "cell_type": "code",
      "source": [
        "bag.estimators_features_[0].shape"
      ],
      "metadata": {
        "trusted": true,
        "execution": {
          "iopub.status.busy": "2025-09-17T22:42:18.491189Z",
          "iopub.execute_input": "2025-09-17T22:42:18.491476Z",
          "iopub.status.idle": "2025-09-17T22:42:18.498326Z",
          "shell.execute_reply.started": "2025-09-17T22:42:18.491455Z",
          "shell.execute_reply": "2025-09-17T22:42:18.49714Z"
        },
        "id": "Pw4sr1bq7JjT"
      },
      "outputs": [],
      "execution_count": null
    },
    {
      "cell_type": "markdown",
      "source": [
        "# Random patches"
      ],
      "metadata": {
        "id": "oZN-umna7JjT"
      }
    },
    {
      "cell_type": "code",
      "source": [
        "\n",
        "bag = BaggingClassifier(\n",
        "    base_estimator=DecisionTreeClassifier(),\n",
        "    n_estimators=500,\n",
        "    max_samples=0.25,\n",
        "    bootstrap=True,\n",
        "    max_features=0.5,\n",
        "    bootstrap_features=True,\n",
        "    random_state=42\n",
        ")"
      ],
      "metadata": {
        "trusted": true,
        "execution": {
          "iopub.status.busy": "2025-09-17T22:42:18.499552Z",
          "iopub.execute_input": "2025-09-17T22:42:18.499871Z",
          "iopub.status.idle": "2025-09-17T22:42:18.519959Z",
          "shell.execute_reply.started": "2025-09-17T22:42:18.499841Z",
          "shell.execute_reply": "2025-09-17T22:42:18.518612Z"
        },
        "id": "_Zl5YZYt7JjT"
      },
      "outputs": [],
      "execution_count": null
    },
    {
      "cell_type": "code",
      "source": [
        "bag.fit(X_train,y_train)\n",
        "y_pred = bag.predict(X_test)\n",
        "print(\"Random Patches classifier\",accuracy_score(y_test,y_pred))"
      ],
      "metadata": {
        "trusted": true,
        "execution": {
          "iopub.status.busy": "2025-09-17T22:42:18.52094Z",
          "iopub.execute_input": "2025-09-17T22:42:18.521319Z",
          "iopub.status.idle": "2025-09-17T22:42:26.329786Z",
          "shell.execute_reply.started": "2025-09-17T22:42:18.521289Z",
          "shell.execute_reply": "2025-09-17T22:42:26.328731Z"
        },
        "id": "S3NAsgEk7JjU"
      },
      "outputs": [],
      "execution_count": null
    },
    {
      "cell_type": "markdown",
      "source": [
        "# OOB SCORE"
      ],
      "metadata": {
        "id": "JmhTWDlV7JjV"
      }
    },
    {
      "cell_type": "code",
      "source": [
        "bag = BaggingClassifier(\n",
        "    base_estimator=DecisionTreeClassifier(),\n",
        "    n_estimators=500,\n",
        "    max_samples=0.25,\n",
        "    bootstrap=True,\n",
        "    oob_score=True,\n",
        "    random_state=42\n",
        ")"
      ],
      "metadata": {
        "trusted": true,
        "execution": {
          "iopub.status.busy": "2025-09-17T22:42:26.330757Z",
          "iopub.execute_input": "2025-09-17T22:42:26.331005Z",
          "iopub.status.idle": "2025-09-17T22:42:26.337188Z",
          "shell.execute_reply.started": "2025-09-17T22:42:26.330986Z",
          "shell.execute_reply": "2025-09-17T22:42:26.335996Z"
        },
        "id": "7FJ8RHXg7JjV"
      },
      "outputs": [],
      "execution_count": null
    },
    {
      "cell_type": "code",
      "source": [
        "bag.fit(X_train,y_train)"
      ],
      "metadata": {
        "trusted": true,
        "execution": {
          "iopub.status.busy": "2025-09-17T22:42:26.338503Z",
          "iopub.execute_input": "2025-09-17T22:42:26.33888Z",
          "iopub.status.idle": "2025-09-17T22:42:38.891002Z",
          "shell.execute_reply.started": "2025-09-17T22:42:26.338848Z",
          "shell.execute_reply": "2025-09-17T22:42:38.890027Z"
        },
        "id": "E00WaNg07JjV"
      },
      "outputs": [],
      "execution_count": null
    },
    {
      "cell_type": "code",
      "source": [
        "bag.oob_score_"
      ],
      "metadata": {
        "trusted": true,
        "execution": {
          "iopub.status.busy": "2025-09-17T22:42:38.892266Z",
          "iopub.execute_input": "2025-09-17T22:42:38.892624Z",
          "iopub.status.idle": "2025-09-17T22:42:38.899638Z",
          "shell.execute_reply.started": "2025-09-17T22:42:38.892595Z",
          "shell.execute_reply": "2025-09-17T22:42:38.898731Z"
        },
        "id": "Y2hAEEDz7JjW"
      },
      "outputs": [],
      "execution_count": null
    },
    {
      "cell_type": "markdown",
      "source": [
        "# Bagging Tips"
      ],
      "metadata": {
        "id": "xvmsOe7V7JjX"
      }
    },
    {
      "cell_type": "markdown",
      "source": [
        "* Bagging generally gives better results than Pasting\n",
        "* Good results come around the 25% to 50% row sampling mark\n",
        "* Random patches and subspaces should be used while dealing with high dimensional data\n",
        "* To find the correct hyperparameter values we can do GridSearchCV/RandomSearchCV"
      ],
      "metadata": {
        "id": "bZdvM_mq7JjY"
      }
    }
  ]
}